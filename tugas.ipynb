{
 "cells": [
  {
   "cell_type": "markdown",
   "id": "1db1f7f8",
   "metadata": {},
   "source": [
    "CNN FACE/ANIMAL RECOGNITION & SORTER WITH AUTO FACE CROP + FALLBACK FOR NON-HUMAN"
   ]
  },
  {
   "cell_type": "code",
   "execution_count": 230,
   "id": "39ad8ba4",
   "metadata": {},
   "outputs": [],
   "source": [
    "import tensorflow as tf\n",
    "from tensorflow.keras.preprocessing.image import ImageDataGenerator\n",
    "from tensorflow.keras.models import Sequential\n",
    "from tensorflow.keras.layers import Conv2D, MaxPooling2D, Flatten, Dense\n",
    "import numpy as np\n",
    "import matplotlib.pyplot as plt\n",
    "import cv2\n",
    "import os\n",
    "import shutil\n",
    "\n",
    "\n"
   ]
  },
  {
   "cell_type": "markdown",
   "id": "a3a35e52",
   "metadata": {},
   "source": [
    "PARAMETERS"
   ]
  },
  {
   "cell_type": "code",
   "execution_count": 231,
   "id": "ed21c86f",
   "metadata": {},
   "outputs": [],
   "source": [
    "# Konfigurasi awal\n",
    "tf.config.run_functions_eagerly(True)  # Atasi error eager\n",
    "IMG_SIZE = (160, 160)\n",
    "BATCH_SIZE = 16\n",
    "DATA_DIR = 'faces'  # Struktur folder: faces/ivan/, faces/ivy/\n",
    "MODEL_NAME = 'face_cnn_model.h5'\n"
   ]
  },
  {
   "cell_type": "markdown",
   "id": "69adc1ac",
   "metadata": {},
   "source": [
    "Dat Prep"
   ]
  },
  {
   "cell_type": "code",
   "execution_count": 232,
   "id": "04686c44",
   "metadata": {},
   "outputs": [
    {
     "name": "stdout",
     "output_type": "stream",
     "text": [
      "Found 79 images belonging to 2 classes.\n",
      "Found 19 images belonging to 2 classes.\n"
     ]
    }
   ],
   "source": [
    "datagen = ImageDataGenerator(rescale=1./255, validation_split=0.2)\n",
    "\n",
    "train_data = datagen.flow_from_directory(\n",
    "    DATA_DIR,\n",
    "    target_size=IMG_SIZE,\n",
    "    batch_size=BATCH_SIZE,\n",
    "    class_mode='categorical',\n",
    "    subset='training'\n",
    ")\n",
    "\n",
    "val_data = datagen.flow_from_directory(\n",
    "    DATA_DIR,\n",
    "    target_size=IMG_SIZE,\n",
    "    batch_size=BATCH_SIZE,\n",
    "    class_mode='categorical',\n",
    "    subset='validation'\n",
    ")\n",
    "\n",
    "class_labels = list(train_data.class_indices.keys())\n"
   ]
  },
  {
   "cell_type": "markdown",
   "id": "36ab72ce",
   "metadata": {},
   "source": [
    "CNN MODEL"
   ]
  },
  {
   "cell_type": "code",
   "execution_count": 233,
   "id": "0aa74b70",
   "metadata": {},
   "outputs": [],
   "source": [
    "model = Sequential([\n",
    "    Conv2D(32, (3, 3), activation='relu', input_shape=(IMG_SIZE[0], IMG_SIZE[1], 3)),\n",
    "    MaxPooling2D(2, 2),\n",
    "    Conv2D(64, (3, 3), activation='relu'),\n",
    "    MaxPooling2D(2, 2),\n",
    "    Conv2D(128, (3, 3), activation='relu'),\n",
    "    MaxPooling2D(2, 2),\n",
    "    Flatten(),\n",
    "    Dense(128, activation='relu'),\n",
    "    Dense(len(train_data.class_indices), activation='softmax')\n",
    "])\n",
    "\n",
    "model.compile(optimizer='adam',\n",
    "              loss='categorical_crossentropy',\n",
    "              metrics=['accuracy'])\n"
   ]
  },
  {
   "cell_type": "code",
   "execution_count": 234,
   "id": "8750a999",
   "metadata": {},
   "outputs": [],
   "source": [
    "import shutil\n",
    "\n",
    "# Hapus folder hasil prediksi sebelumnya\n",
    "if os.path.exists('sorted'):\n",
    "    shutil.rmtree('sorted')\n",
    "    print(\"📁 Folder 'sorted' sebelumnya dihapus.\")\n"
   ]
  },
  {
   "cell_type": "code",
   "execution_count": 235,
   "id": "02549ffd",
   "metadata": {},
   "outputs": [
    {
     "name": "stdout",
     "output_type": "stream",
     "text": [
      "Epoch 1/10\n",
      "\u001b[1m5/5\u001b[0m \u001b[32m━━━━━━━━━━━━━━━━━━━━\u001b[0m\u001b[37m\u001b[0m \u001b[1m14s\u001b[0m 3s/step - accuracy: 0.7880 - loss: 0.5455 - val_accuracy: 0.8947 - val_loss: 0.1312\n",
      "Epoch 2/10\n",
      "\u001b[1m5/5\u001b[0m \u001b[32m━━━━━━━━━━━━━━━━━━━━\u001b[0m\u001b[37m\u001b[0m \u001b[1m12s\u001b[0m 3s/step - accuracy: 0.9034 - loss: 0.2607 - val_accuracy: 1.0000 - val_loss: 0.2763\n",
      "Epoch 3/10\n",
      "\u001b[1m5/5\u001b[0m \u001b[32m━━━━━━━━━━━━━━━━━━━━\u001b[0m\u001b[37m\u001b[0m \u001b[1m12s\u001b[0m 2s/step - accuracy: 1.0000 - loss: 0.1110 - val_accuracy: 1.0000 - val_loss: 0.0355\n",
      "Epoch 4/10\n",
      "\u001b[1m5/5\u001b[0m \u001b[32m━━━━━━━━━━━━━━━━━━━━\u001b[0m\u001b[37m\u001b[0m \u001b[1m12s\u001b[0m 2s/step - accuracy: 1.0000 - loss: 0.0086 - val_accuracy: 1.0000 - val_loss: 0.0095\n",
      "Epoch 5/10\n",
      "\u001b[1m5/5\u001b[0m \u001b[32m━━━━━━━━━━━━━━━━━━━━\u001b[0m\u001b[37m\u001b[0m \u001b[1m12s\u001b[0m 2s/step - accuracy: 1.0000 - loss: 0.0017 - val_accuracy: 1.0000 - val_loss: 0.0045\n",
      "Epoch 6/10\n",
      "\u001b[1m5/5\u001b[0m \u001b[32m━━━━━━━━━━━━━━━━━━━━\u001b[0m\u001b[37m\u001b[0m \u001b[1m12s\u001b[0m 2s/step - accuracy: 1.0000 - loss: 2.0319e-04 - val_accuracy: 1.0000 - val_loss: 0.0050\n",
      "Epoch 7/10\n",
      "\u001b[1m5/5\u001b[0m \u001b[32m━━━━━━━━━━━━━━━━━━━━\u001b[0m\u001b[37m\u001b[0m \u001b[1m12s\u001b[0m 2s/step - accuracy: 1.0000 - loss: 3.0894e-05 - val_accuracy: 1.0000 - val_loss: 0.0133\n",
      "Epoch 8/10\n",
      "\u001b[1m5/5\u001b[0m \u001b[32m━━━━━━━━━━━━━━━━━━━━\u001b[0m\u001b[37m\u001b[0m \u001b[1m12s\u001b[0m 3s/step - accuracy: 1.0000 - loss: 6.3452e-06 - val_accuracy: 1.0000 - val_loss: 0.0122\n",
      "Epoch 9/10\n",
      "\u001b[1m5/5\u001b[0m \u001b[32m━━━━━━━━━━━━━━━━━━━━\u001b[0m\u001b[37m\u001b[0m \u001b[1m13s\u001b[0m 3s/step - accuracy: 1.0000 - loss: 5.5652e-06 - val_accuracy: 1.0000 - val_loss: 0.0103\n",
      "Epoch 10/10\n",
      "\u001b[1m5/5\u001b[0m \u001b[32m━━━━━━━━━━━━━━━━━━━━\u001b[0m\u001b[37m\u001b[0m \u001b[1m12s\u001b[0m 2s/step - accuracy: 1.0000 - loss: 1.8461e-06 - val_accuracy: 1.0000 - val_loss: 0.0096\n"
     ]
    },
    {
     "name": "stderr",
     "output_type": "stream",
     "text": [
      "WARNING:absl:You are saving your model as an HDF5 file via `model.save()` or `keras.saving.save_model(model)`. This file format is considered legacy. We recommend using instead the native Keras format, e.g. `model.save('my_model.keras')` or `keras.saving.save_model(model, 'my_model.keras')`. \n"
     ]
    },
    {
     "data": {
      "image/png": "[encoded data removed]",
      "text/plain": [
       "<Figure size 640x480 with 1 Axes>"
      ]
     },
     "metadata": {},
     "output_type": "display_data"
    }
   ],
   "source": [
    "history = model.fit(train_data, validation_data=val_data, epochs=10)\n",
    "model.save(MODEL_NAME)\n",
    "\n",
    "# (opsional) Visualisasi\n",
    "plt.plot(history.history['accuracy'], label='Train Acc')\n",
    "plt.plot(history.history['val_accuracy'], label='Val Acc')\n",
    "plt.legend()\n",
    "plt.title(\"Model Accuracy\")\n",
    "plt.xlabel(\"Epoch\")\n",
    "plt.ylabel(\"Accuracy\")\n",
    "plt.show()\n"
   ]
  },
  {
   "cell_type": "markdown",
   "id": "fdb51bb7",
   "metadata": {},
   "source": [
    "PREDICT FUNCTION"
   ]
  },
  {
   "cell_type": "code",
   "execution_count": null,
   "id": "a13b9c35",
   "metadata": {},
   "outputs": [],
   "source": [
    "def predict_and_sort(image_path, model, class_labels, output_dir='sorted'):\n",
    "    img_raw = cv2.imread(image_path)\n",
    "    if img_raw is None:\n",
    "        print(f\"❌ Gagal membaca gambar: {image_path}\")\n",
    "        return\n",
    "\n",
    "    print(\"📸 Menggunakan full image (tanpa crop wajah).\")\n",
    "    face_img = cv2.resize(img_raw, IMG_SIZE)\n",
    "\n",
    "    img_array = face_img / 255.0\n",
    "    img_array = np.expand_dims(img_array, axis=0)\n",
    "    pred = model.predict(img_array)\n",
    "    confidence = np.max(pred)\n",
    "    predicted_class = np.argmax(pred)\n",
    "    class_name = class_labels[predicted_class] if confidence > 0.8 else 'unknown'\n",
    "\n",
    "    save_dir = os.path.join(output_dir, class_name)\n",
    "    os.makedirs(save_dir, exist_ok=True)\n",
    "    filename = os.path.basename(image_path)\n",
    "    shutil.copy(image_path, os.path.join(save_dir, filename))\n",
    "    print(f\"Predicted: {class_name} ({confidence:.2f}) → saved to {save_dir}\")\n"
   ]
  },
  {
   "cell_type": "markdown",
   "id": "747bdf5b",
   "metadata": {},
   "source": [
    "LOAD MODEL & CLASS LABELS"
   ]
  },
  {
   "cell_type": "code",
   "execution_count": null,
   "id": "84fa2449",
   "metadata": {},
   "outputs": [
    {
     "name": "stderr",
     "output_type": "stream",
     "text": [
      "WARNING:absl:Compiled the loaded model, but the compiled metrics have yet to be built. `model.compile_metrics` will be empty until you train or evaluate the model.\n"
     ]
    },
    {
     "name": "stdout",
     "output_type": "stream",
     "text": [
      "✅ Wajah berhasil dicrop.\n",
      "\u001b[1m1/1\u001b[0m \u001b[32m━━━━━━━━━━━━━━━━━━━━\u001b[0m\u001b[37m\u001b[0m \u001b[1m0s\u001b[0m 66ms/step\n",
      "Predicted: ivy (1.00) → saved to sorted\\ivy\n"
     ]
    },
    {
     "ename": "",
     "evalue": "",
     "output_type": "error",
     "traceback": [
      "\u001b[1;31mThe Kernel crashed while executing code in the current cell or a previous cell. \n",
      "\u001b[1;31mPlease review the code in the cell(s) to identify a possible cause of the failure. \n",
      "\u001b[1;31mClick <a href='https://aka.ms/vscodeJupyterKernelCrash'>here</a> for more info. \n",
      "\u001b[1;31mView Jupyter <a href='command:jupyter.viewOutput'>log</a> for further details."
     ]
    }
   ],
   "source": [
    "model = tf.keras.models.load_model(MODEL_NAME)\n",
    "class_labels = list(train_data.class_indices.keys())\n",
    "\n",
    "# Ganti dengan path gambar input\n",
    "predict_and_sort(\"miaw.jpg\", model, class_labels)\n"
   ]
  }
 ],
 "metadata": {
  "kernelspec": {
   "display_name": "Python 3",
   "language": "python",
   "name": "python3"
  },
  "language_info": {
   "codemirror_mode": {
    "name": "ipython",
    "version": 3
   },
   "file_extension": ".py",
   "mimetype": "text/x-python",
   "name": "python",
   "nbconvert_exporter": "python",
   "pygments_lexer": "ipython3",
   "version": "3.10.9"
  }
 },
 "nbformat": 4,
 "nbformat_minor": 5
}
